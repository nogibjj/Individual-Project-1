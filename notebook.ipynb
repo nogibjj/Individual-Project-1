import pandas as pd
example_csv = "https://data.ca.gov/dataset/4a9a896a-e64e-48c2-bb35-5589f80e7c52/resource/5a3f496d-04be-4405-aea0-e83e26076efc/download/covid19dashboard.csv"
data = pd.read_csv(example_csv)
data.describe()
