{
 "cells": [
  {
   "cell_type": "code",
   "execution_count": 1,
   "id": "7a51e574",
   "metadata": {},
   "outputs": [
    {
     "data": {
      "text/html": [
       "<div>\n",
       "<style scoped>\n",
       "    .dataframe tbody tr th:only-of-type {\n",
       "        vertical-align: middle;\n",
       "    }\n",
       "\n",
       "    .dataframe tbody tr th {\n",
       "        vertical-align: top;\n",
       "    }\n",
       "\n",
       "    .dataframe thead th {\n",
       "        text-align: right;\n",
       "    }\n",
       "</style>\n",
       "<table border=\"1\" class=\"dataframe\">\n",
       "  <thead>\n",
       "    <tr style=\"text-align: right;\">\n",
       "      <th></th>\n",
       "      <th>Latitude</th>\n",
       "      <th>Longitude</th>\n",
       "      <th>TotalConfirmed</th>\n",
       "      <th>TotalDeaths</th>\n",
       "      <th>DistinctPatientsTested</th>\n",
       "      <th>NewInTheLast14Days</th>\n",
       "    </tr>\n",
       "  </thead>\n",
       "  <tbody>\n",
       "    <tr>\n",
       "      <th>count</th>\n",
       "      <td>44870.000000</td>\n",
       "      <td>44870.000000</td>\n",
       "      <td>44870.000000</td>\n",
       "      <td>44870.000000</td>\n",
       "      <td>44870.000000</td>\n",
       "      <td>44870.000000</td>\n",
       "    </tr>\n",
       "    <tr>\n",
       "      <th>mean</th>\n",
       "      <td>36.375825</td>\n",
       "      <td>-119.569829</td>\n",
       "      <td>1638.599265</td>\n",
       "      <td>5.782594</td>\n",
       "      <td>92.478181</td>\n",
       "      <td>31.482260</td>\n",
       "    </tr>\n",
       "    <tr>\n",
       "      <th>std</th>\n",
       "      <td>2.230665</td>\n",
       "      <td>2.217752</td>\n",
       "      <td>1257.548628</td>\n",
       "      <td>7.762456</td>\n",
       "      <td>149.571368</td>\n",
       "      <td>96.678104</td>\n",
       "    </tr>\n",
       "    <tr>\n",
       "      <th>min</th>\n",
       "      <td>32.572602</td>\n",
       "      <td>-124.167030</td>\n",
       "      <td>0.000000</td>\n",
       "      <td>0.000000</td>\n",
       "      <td>0.000000</td>\n",
       "      <td>0.000000</td>\n",
       "    </tr>\n",
       "    <tr>\n",
       "      <th>25%</th>\n",
       "      <td>34.728857</td>\n",
       "      <td>-121.157830</td>\n",
       "      <td>652.000000</td>\n",
       "      <td>0.000000</td>\n",
       "      <td>6.000000</td>\n",
       "      <td>0.000000</td>\n",
       "    </tr>\n",
       "    <tr>\n",
       "      <th>50%</th>\n",
       "      <td>36.177361</td>\n",
       "      <td>-120.278640</td>\n",
       "      <td>1489.000000</td>\n",
       "      <td>2.000000</td>\n",
       "      <td>39.000000</td>\n",
       "      <td>2.000000</td>\n",
       "    </tr>\n",
       "    <tr>\n",
       "      <th>75%</th>\n",
       "      <td>37.955474</td>\n",
       "      <td>-117.914730</td>\n",
       "      <td>2488.000000</td>\n",
       "      <td>8.000000</td>\n",
       "      <td>112.000000</td>\n",
       "      <td>16.000000</td>\n",
       "    </tr>\n",
       "    <tr>\n",
       "      <th>max</th>\n",
       "      <td>41.782681</td>\n",
       "      <td>-114.619050</td>\n",
       "      <td>5621.000000</td>\n",
       "      <td>30.000000</td>\n",
       "      <td>3158.000000</td>\n",
       "      <td>1457.000000</td>\n",
       "    </tr>\n",
       "  </tbody>\n",
       "</table>\n",
       "</div>"
      ],
      "text/plain": [
       "           Latitude     Longitude  TotalConfirmed   TotalDeaths  \\\n",
       "count  44870.000000  44870.000000    44870.000000  44870.000000   \n",
       "mean      36.375825   -119.569829     1638.599265      5.782594   \n",
       "std        2.230665      2.217752     1257.548628      7.762456   \n",
       "min       32.572602   -124.167030        0.000000      0.000000   \n",
       "25%       34.728857   -121.157830      652.000000      0.000000   \n",
       "50%       36.177361   -120.278640     1489.000000      2.000000   \n",
       "75%       37.955474   -117.914730     2488.000000      8.000000   \n",
       "max       41.782681   -114.619050     5621.000000     30.000000   \n",
       "\n",
       "       DistinctPatientsTested  NewInTheLast14Days  \n",
       "count            44870.000000        44870.000000  \n",
       "mean                92.478181           31.482260  \n",
       "std                149.571368           96.678104  \n",
       "min                  0.000000            0.000000  \n",
       "25%                  6.000000            0.000000  \n",
       "50%                 39.000000            2.000000  \n",
       "75%                112.000000           16.000000  \n",
       "max               3158.000000         1457.000000  "
      ]
     },
     "execution_count": 1,
     "metadata": {},
     "output_type": "execute_result"
    }
   ],
   "source": [
    "import pandas as pd\n",
    "\n",
    "example_csv = \"https://data.ca.gov/dataset/4a9a896a-e64e-48c2-bb35-5589f80e7c52/resource/5a3f496d-04be-4405-aea0-e83e26076efc/download/covid19dashboard.csv\"\n",
    "data = pd.read_csv(example_csv)\n",
    "data.describe()"
   ]
  },
  {
   "cell_type": "code",
   "execution_count": 2,
   "id": "9920d88d",
   "metadata": {},
   "outputs": [],
   "source": [
    "from lib import Describe"
   ]
  },
  {
   "cell_type": "code",
   "execution_count": 3,
   "id": "60918654",
   "metadata": {},
   "outputs": [
    {
     "data": {
      "text/html": [
       "<div>\n",
       "<style scoped>\n",
       "    .dataframe tbody tr th:only-of-type {\n",
       "        vertical-align: middle;\n",
       "    }\n",
       "\n",
       "    .dataframe tbody tr th {\n",
       "        vertical-align: top;\n",
       "    }\n",
       "\n",
       "    .dataframe thead th {\n",
       "        text-align: right;\n",
       "    }\n",
       "</style>\n",
       "<table border=\"1\" class=\"dataframe\">\n",
       "  <thead>\n",
       "    <tr style=\"text-align: right;\">\n",
       "      <th></th>\n",
       "      <th>Latitude</th>\n",
       "      <th>Longitude</th>\n",
       "      <th>TotalConfirmed</th>\n",
       "      <th>TotalDeaths</th>\n",
       "      <th>DistinctPatientsTested</th>\n",
       "      <th>NewInTheLast14Days</th>\n",
       "    </tr>\n",
       "  </thead>\n",
       "  <tbody>\n",
       "    <tr>\n",
       "      <th>count</th>\n",
       "      <td>44870.000000</td>\n",
       "      <td>44870.000000</td>\n",
       "      <td>44870.000000</td>\n",
       "      <td>44870.000000</td>\n",
       "      <td>44870.000000</td>\n",
       "      <td>44870.000000</td>\n",
       "    </tr>\n",
       "    <tr>\n",
       "      <th>mean</th>\n",
       "      <td>36.375825</td>\n",
       "      <td>-119.569829</td>\n",
       "      <td>1638.599265</td>\n",
       "      <td>5.782594</td>\n",
       "      <td>92.478181</td>\n",
       "      <td>31.482260</td>\n",
       "    </tr>\n",
       "    <tr>\n",
       "      <th>std</th>\n",
       "      <td>2.230665</td>\n",
       "      <td>2.217752</td>\n",
       "      <td>1257.548628</td>\n",
       "      <td>7.762456</td>\n",
       "      <td>149.571368</td>\n",
       "      <td>96.678104</td>\n",
       "    </tr>\n",
       "    <tr>\n",
       "      <th>min</th>\n",
       "      <td>32.572602</td>\n",
       "      <td>-124.167030</td>\n",
       "      <td>0.000000</td>\n",
       "      <td>0.000000</td>\n",
       "      <td>0.000000</td>\n",
       "      <td>0.000000</td>\n",
       "    </tr>\n",
       "    <tr>\n",
       "      <th>25%</th>\n",
       "      <td>34.728857</td>\n",
       "      <td>-121.157830</td>\n",
       "      <td>652.000000</td>\n",
       "      <td>0.000000</td>\n",
       "      <td>6.000000</td>\n",
       "      <td>0.000000</td>\n",
       "    </tr>\n",
       "    <tr>\n",
       "      <th>50%</th>\n",
       "      <td>36.177361</td>\n",
       "      <td>-120.278640</td>\n",
       "      <td>1489.000000</td>\n",
       "      <td>2.000000</td>\n",
       "      <td>39.000000</td>\n",
       "      <td>2.000000</td>\n",
       "    </tr>\n",
       "    <tr>\n",
       "      <th>75%</th>\n",
       "      <td>37.955474</td>\n",
       "      <td>-117.914730</td>\n",
       "      <td>2488.000000</td>\n",
       "      <td>8.000000</td>\n",
       "      <td>112.000000</td>\n",
       "      <td>16.000000</td>\n",
       "    </tr>\n",
       "    <tr>\n",
       "      <th>max</th>\n",
       "      <td>41.782681</td>\n",
       "      <td>-114.619050</td>\n",
       "      <td>5621.000000</td>\n",
       "      <td>30.000000</td>\n",
       "      <td>3158.000000</td>\n",
       "      <td>1457.000000</td>\n",
       "    </tr>\n",
       "  </tbody>\n",
       "</table>\n",
       "</div>"
      ],
      "text/plain": [
       "           Latitude     Longitude  TotalConfirmed   TotalDeaths  \\\n",
       "count  44870.000000  44870.000000    44870.000000  44870.000000   \n",
       "mean      36.375825   -119.569829     1638.599265      5.782594   \n",
       "std        2.230665      2.217752     1257.548628      7.762456   \n",
       "min       32.572602   -124.167030        0.000000      0.000000   \n",
       "25%       34.728857   -121.157830      652.000000      0.000000   \n",
       "50%       36.177361   -120.278640     1489.000000      2.000000   \n",
       "75%       37.955474   -117.914730     2488.000000      8.000000   \n",
       "max       41.782681   -114.619050     5621.000000     30.000000   \n",
       "\n",
       "       DistinctPatientsTested  NewInTheLast14Days  \n",
       "count            44870.000000        44870.000000  \n",
       "mean                92.478181           31.482260  \n",
       "std                149.571368           96.678104  \n",
       "min                  0.000000            0.000000  \n",
       "25%                  6.000000            0.000000  \n",
       "50%                 39.000000            2.000000  \n",
       "75%                112.000000           16.000000  \n",
       "max               3158.000000         1457.000000  "
      ]
     },
     "execution_count": 3,
     "metadata": {},
     "output_type": "execute_result"
    }
   ],
   "source": [
    "#NBVAL_CHECK_OUTPUT\n",
    "Describe(data)"
   ]
  },
  {
   "cell_type": "code",
   "execution_count": 4,
   "id": "38be28cd",
   "metadata": {},
   "outputs": [],
   "source": [
    "#data.median()\n"
   ]
  },
  {
   "cell_type": "code",
   "execution_count": 5,
   "id": "95568995",
   "metadata": {},
   "outputs": [],
   "source": [
    "from lib import get_median"
   ]
  },
  {
   "cell_type": "code",
   "execution_count": 6,
   "id": "b56d70ab",
   "metadata": {},
   "outputs": [
    {
     "data": {
      "text/plain": [
       "2.0"
      ]
     },
     "execution_count": 6,
     "metadata": {},
     "output_type": "execute_result"
    }
   ],
   "source": [
    "#NBVAL_CHECK_OUTPUT\n",
    "get_median(data['TotalConfirmed'])\n",
    "get_median(data['TotalDeaths'])\n",
    "get_median(data['DistinctPatientsTested'])\n",
    "get_median(data['NewInTheLast14Days'])"
   ]
  },
  {
   "cell_type": "code",
   "execution_count": 7,
   "id": "0a8b3ee0",
   "metadata": {},
   "outputs": [
    {
     "data": {
      "image/png": "[encoded data removed]",
      "text/plain": [
       "<Figure size 720x432 with 1 Axes>"
      ]
     },
     "metadata": {
      "needs_background": "light"
     },
     "output_type": "display_data"
    }
   ],
   "source": [
    "import matplotlib.pyplot as plt\n",
    "pd.set_option(\"display.max_columns\", None)\n",
    "general_df = pd.read_csv(example_csv)\n",
    "plt.figure(figsize=(10, 6))\n",
    "plt.hist(general_df[\"TotalConfirmed\"], bins=20, edgecolor=\"black\")\n",
    "plt.title(\"TotalConfirmed Distribution\")\n",
    "plt.xlabel(\"TotalConfirmed\")\n",
    "plt.ylabel(\"Count\")\n",
    "plt.show() "
   ]
  },
  {
   "cell_type": "code",
   "execution_count": 8,
   "id": "b3b0f657",
   "metadata": {},
   "outputs": [],
   "source": [
    "from lib import PlotHistOfTotalConfirmed"
   ]
  },
  {
   "cell_type": "code",
   "execution_count": 9,
   "id": "89424fba",
   "metadata": {},
   "outputs": [
    {
     "data": {
      "image/png": "[encoded data removed]",
      "text/plain": [
       "<Figure size 373.248x223.949 with 1 Axes>"
      ]
     },
     "metadata": {
      "needs_background": "light"
     },
     "output_type": "display_data"
    }
   ],
   "source": [
    "#NBVAL_CHECK_OUTPUT\n",
    "PlotHistOfTotalConfirmed(example_csv)"
   ]
  },
  {
   "cell_type": "code",
   "execution_count": 10,
   "id": "cf8f9bb1",
   "metadata": {},
   "outputs": [
    {
     "name": "stderr",
     "output_type": "stream",
     "text": [
      "<ipython-input-10-84c6166cec00>:7: SettingWithCopyWarning: \n",
      "A value is trying to be set on a copy of a slice from a DataFrame\n",
      "\n",
      "See the caveats in the documentation: https://pandas.pydata.org/pandas-docs/stable/user_guide/indexing.html#returning-a-view-versus-a-copy\n",
      "  general_df[\"Date\"][i] = datetime.strptime(general_df[\"Date\"][i], '%Y-%m-%d').date()\n"
     ]
    },
    {
     "data": {
      "image/png": "[encoded data removed]",
      "text/plain": [
       "<Figure size 720x432 with 1 Axes>"
      ]
     },
     "metadata": {
      "needs_background": "light"
     },
     "output_type": "display_data"
    }
   ],
   "source": [
    "import matplotlib.pyplot as plt\n",
    "from datetime import datetime\n",
    "pd.set_option(\"display.max_columns\", None)\n",
    "general_df = pd.read_csv(example_csv)\n",
    "plt.figure(figsize=(10, 6))\n",
    "for i in range(44870):\n",
    "  general_df[\"Date\"][i] = datetime.strptime(general_df[\"Date\"][i], '%Y-%m-%d').date()\n",
    "#print(type(general_df[\"Date\"][0]))\n",
    "df = general_df.groupby(\"Date\").sum()\n",
    "#print(df)\n",
    "df2 =df.reset_index()\n",
    "plt.bar(df2[\"Date\"], df2[\"TotalConfirmed\"])\n",
    "plt.title(\"TotalConfirmed vs Date\")\n",
    "plt.xlabel(\"Date\")\n",
    "plt.ylabel(\"TotalConfirmed\")\n",
    "plt.show() "
   ]
  },
  {
   "cell_type": "code",
   "execution_count": 11,
   "id": "13d4e7c9",
   "metadata": {},
   "outputs": [],
   "source": [
    "from lib import PlotHistTotalConfirmedVsDate"
   ]
  },
  {
   "cell_type": "code",
   "execution_count": 12,
   "id": "80100d3e",
   "metadata": {},
   "outputs": [
    {
     "data": {
      "image/png": "[encoded data removed]",
      "text/plain": [
       "<Figure size 373.248x223.949 with 1 Axes>"
      ]
     },
     "metadata": {
      "needs_background": "light"
     },
     "output_type": "display_data"
    }
   ],
   "source": [
    "#NBVAL_CHECK_OUTPUT\n",
    "PlotHistTotalConfirmedVsDate(example_csv)"
   ]
  },
  {
   "cell_type": "code",
   "execution_count": 13,
   "id": "c5cf1918",
   "metadata": {},
   "outputs": [
    {
     "data": {
      "image/png": "[encoded data removed]",
      "text/plain": [
       "<Figure size 432x288 with 1 Axes>"
      ]
     },
     "metadata": {
      "needs_background": "light"
     },
     "output_type": "display_data"
    }
   ],
   "source": [
    "plt.scatter(df2[\"Date\"], df2[\"TotalConfirmed\"])\n",
    "plt.title(\"TotalConfirmed vs Date\")\n",
    "plt.xlabel(\"Date\")\n",
    "plt.ylabel(\"TotalConfirmed\")\n",
    "plt.show() "
   ]
  },
  {
   "cell_type": "code",
   "execution_count": 14,
   "id": "6573226f",
   "metadata": {},
   "outputs": [],
   "source": [
    "from lib import PlotScatter"
   ]
  },
  {
   "cell_type": "code",
   "execution_count": 15,
   "id": "c38bb191",
   "metadata": {},
   "outputs": [
    {
     "data": {
      "image/png": "[encoded data removed]",
      "text/plain": [
       "<Figure size 373.248x223.949 with 1 Axes>"
      ]
     },
     "metadata": {
      "needs_background": "light"
     },
     "output_type": "display_data"
    }
   ],
   "source": [
    "#NBVAL_CHECK_OUTPUT\n",
    "PlotScatter(example_csv)"
   ]
  },
  {
   "cell_type": "code",
   "execution_count": 16,
   "id": "57201681",
   "metadata": {},
   "outputs": [
    {
     "data": {
      "image/png": "[encoded data removed]",
      "text/plain": [
       "<Figure size 720x432 with 1 Axes>"
      ]
     },
     "metadata": {
      "needs_background": "light"
     },
     "output_type": "display_data"
    }
   ],
   "source": [
    "from sklearn.linear_model import LinearRegression\n",
    "pd.set_option(\"display.max_columns\", None)\n",
    "general_df = pd.read_csv(example_csv)\n",
    "plt.figure(figsize=(10, 6))\n",
    "df = general_df.groupby(\"Date\").sum()\n",
    "df2 =df.reset_index()\n",
    "x = []\n",
    "a = 0\n",
    "for i in range(1282):\n",
    "  x.append(a)\n",
    "  a = a + 1\n",
    "df2[\"date_index\"] = x\n",
    "lr = LinearRegression()  # create object for the class\n",
    "lr.fit(df2[\"date_index\"].values.reshape(-1, 1), df2[\"TotalConfirmed\"])  # perform linear regression\n",
    "Y_pred = lr.predict(df2[\"date_index\"].values.reshape(-1, 1))  # make predictions\n",
    "plt.scatter(df2[\"date_index\"].values.reshape(-1, 1), df2[\"TotalConfirmed\"])\n",
    "plt.plot(df2[\"date_index\"].values.reshape(-1, 1), Y_pred, color='red')\n",
    "plt.title(\"TotalConfirmed vs Date\")\n",
    "plt.xlabel(\"Date_Increasement\")\n",
    "plt.ylabel(\"TotalConfirmed\")\n",
    "plt.show()"
   ]
  },
  {
   "cell_type": "code",
   "execution_count": 17,
   "id": "3bea46d1",
   "metadata": {},
   "outputs": [],
   "source": [
    "from lib import LROfTotalConfirmedVsDate"
   ]
  },
  {
   "cell_type": "code",
   "execution_count": 18,
   "id": "c43aa829",
   "metadata": {},
   "outputs": [
    {
     "data": {
      "image/png": "[encoded data removed]",
      "text/plain": [
       "<Figure size 373.248x223.949 with 1 Axes>"
      ]
     },
     "metadata": {
      "needs_background": "light"
     },
     "output_type": "display_data"
    }
   ],
   "source": [
    "#NBVAL_CHECK_OUTPUT\n",
    "LROfTotalConfirmedVsDate(example_csv)"
   ]
  }
 ],
 "metadata": {
  "kernelspec": {
   "display_name": "Python 3",
   "language": "python",
   "name": "python3"
  },
  "language_info": {
   "codemirror_mode": {
    "name": "ipython",
    "version": 3
   },
   "file_extension": ".py",
   "mimetype": "text/x-python",
   "name": "python",
   "nbconvert_exporter": "python",
   "pygments_lexer": "ipython3",
   "version": "3.8.8"
  }
 },
 "nbformat": 4,
 "nbformat_minor": 5
}
