{
 "cells": [
  {
   "cell_type": "code",
   "execution_count": 1,
   "id": "7a51e574",
   "metadata": {},
   "outputs": [
    {
     "data": {
      "text/html": [
       "<div>\n",
       "<style scoped>\n",
       "    .dataframe tbody tr th:only-of-type {\n",
       "        vertical-align: middle;\n",
       "    }\n",
       "\n",
       "    .dataframe tbody tr th {\n",
       "        vertical-align: top;\n",
       "    }\n",
       "\n",
       "    .dataframe thead th {\n",
       "        text-align: right;\n",
       "    }\n",
       "</style>\n",
       "<table border=\"1\" class=\"dataframe\">\n",
       "  <thead>\n",
       "    <tr style=\"text-align: right;\">\n",
       "      <th></th>\n",
       "      <th>Latitude</th>\n",
       "      <th>Longitude</th>\n",
       "      <th>TotalConfirmed</th>\n",
       "      <th>TotalDeaths</th>\n",
       "      <th>DistinctPatientsTested</th>\n",
       "      <th>NewInTheLast14Days</th>\n",
       "    </tr>\n",
       "  </thead>\n",
       "  <tbody>\n",
       "    <tr>\n",
       "      <th>count</th>\n",
       "      <td>44870.000000</td>\n",
       "      <td>44870.000000</td>\n",
       "      <td>44870.000000</td>\n",
       "      <td>44870.000000</td>\n",
       "      <td>44870.000000</td>\n",
       "      <td>44870.000000</td>\n",
       "    </tr>\n",
       "    <tr>\n",
       "      <th>mean</th>\n",
       "      <td>36.375825</td>\n",
       "      <td>-119.569829</td>\n",
       "      <td>1638.599265</td>\n",
       "      <td>5.782594</td>\n",
       "      <td>92.478181</td>\n",
       "      <td>31.482260</td>\n",
       "    </tr>\n",
       "    <tr>\n",
       "      <th>std</th>\n",
       "      <td>2.230665</td>\n",
       "      <td>2.217752</td>\n",
       "      <td>1257.548628</td>\n",
       "      <td>7.762456</td>\n",
       "      <td>149.571368</td>\n",
       "      <td>96.678104</td>\n",
       "    </tr>\n",
       "    <tr>\n",
       "      <th>min</th>\n",
       "      <td>32.572602</td>\n",
       "      <td>-124.167030</td>\n",
       "      <td>0.000000</td>\n",
       "      <td>0.000000</td>\n",
       "      <td>0.000000</td>\n",
       "      <td>0.000000</td>\n",
       "    </tr>\n",
       "    <tr>\n",
       "      <th>25%</th>\n",
       "      <td>34.728857</td>\n",
       "      <td>-121.157830</td>\n",
       "      <td>652.000000</td>\n",
       "      <td>0.000000</td>\n",
       "      <td>6.000000</td>\n",
       "      <td>0.000000</td>\n",
       "    </tr>\n",
       "    <tr>\n",
       "      <th>50%</th>\n",
       "      <td>36.177361</td>\n",
       "      <td>-120.278640</td>\n",
       "      <td>1489.000000</td>\n",
       "      <td>2.000000</td>\n",
       "      <td>39.000000</td>\n",
       "      <td>2.000000</td>\n",
       "    </tr>\n",
       "    <tr>\n",
       "      <th>75%</th>\n",
       "      <td>37.955474</td>\n",
       "      <td>-117.914730</td>\n",
       "      <td>2488.000000</td>\n",
       "      <td>8.000000</td>\n",
       "      <td>112.000000</td>\n",
       "      <td>16.000000</td>\n",
       "    </tr>\n",
       "    <tr>\n",
       "      <th>max</th>\n",
       "      <td>41.782681</td>\n",
       "      <td>-114.619050</td>\n",
       "      <td>5621.000000</td>\n",
       "      <td>30.000000</td>\n",
       "      <td>3158.000000</td>\n",
       "      <td>1457.000000</td>\n",
       "    </tr>\n",
       "  </tbody>\n",
       "</table>\n",
       "</div>"
      ],
      "text/plain": [
       "           Latitude     Longitude  TotalConfirmed   TotalDeaths  \\\n",
       "count  44870.000000  44870.000000    44870.000000  44870.000000   \n",
       "mean      36.375825   -119.569829     1638.599265      5.782594   \n",
       "std        2.230665      2.217752     1257.548628      7.762456   \n",
       "min       32.572602   -124.167030        0.000000      0.000000   \n",
       "25%       34.728857   -121.157830      652.000000      0.000000   \n",
       "50%       36.177361   -120.278640     1489.000000      2.000000   \n",
       "75%       37.955474   -117.914730     2488.000000      8.000000   \n",
       "max       41.782681   -114.619050     5621.000000     30.000000   \n",
       "\n",
       "       DistinctPatientsTested  NewInTheLast14Days  \n",
       "count            44870.000000        44870.000000  \n",
       "mean                92.478181           31.482260  \n",
       "std                149.571368           96.678104  \n",
       "min                  0.000000            0.000000  \n",
       "25%                  6.000000            0.000000  \n",
       "50%                 39.000000            2.000000  \n",
       "75%                112.000000           16.000000  \n",
       "max               3158.000000         1457.000000  "
      ]
     },
     "execution_count": 1,
     "metadata": {},
     "output_type": "execute_result"
    }
   ],
   "source": [
    "import pandas as pd\n",
    "\n",
    "example_csv = \"https://data.ca.gov/dataset/4a9a896a-e64e-48c2-bb35-5589f80e7c52/resource/5a3f496d-04be-4405-aea0-e83e26076efc/download/covid19dashboard.csv\"\n",
    "data = pd.read_csv(example_csv)\n",
    "data.describe()"
   ]
  },
  {
   "cell_type": "code",
   "execution_count": 2,
   "id": "38be28cd",
   "metadata": {},
   "outputs": [
    {
     "data": {
      "text/plain": [
       "Latitude                    36.177361\n",
       "Longitude                 -120.278640\n",
       "TotalConfirmed            1489.000000\n",
       "TotalDeaths                  2.000000\n",
       "DistinctPatientsTested      39.000000\n",
       "NewInTheLast14Days           2.000000\n",
       "dtype: float64"
      ]
     },
     "execution_count": 2,
     "metadata": {},
     "output_type": "execute_result"
    }
   ],
   "source": [
    "data.median()\n"
   ]
  },
  {
   "cell_type": "code",
   "execution_count": null,
   "id": "0a8b3ee0",
   "metadata": {},
   "outputs": [],
   "source": []
  }
 ],
 "metadata": {
  "kernelspec": {
   "display_name": "Python 3",
   "language": "python",
   "name": "python3"
  },
  "language_info": {
   "codemirror_mode": {
    "name": "ipython",
    "version": 3
   },
   "file_extension": ".py",
   "mimetype": "text/x-python",
   "name": "python",
   "nbconvert_exporter": "python",
   "pygments_lexer": "ipython3",
   "version": "3.8.8"
  }
 },
 "nbformat": 4,
 "nbformat_minor": 5
}
